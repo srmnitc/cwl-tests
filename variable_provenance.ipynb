{
 "cells": [
  {
   "cell_type": "code",
   "execution_count": 125,
   "id": "be893dca-4bd9-47a6-a9bb-3e89c2661414",
   "metadata": {},
   "outputs": [],
   "source": [
    "import inspect"
   ]
  },
  {
   "cell_type": "code",
   "execution_count": 126,
   "id": "952ad6da-4d69-4e62-a688-493846e517e2",
   "metadata": {},
   "outputs": [],
   "source": [
    "class Variable:\n",
    "    def __init__(self, value):\n",
    "        self._value = value\n",
    "        self.id = id(self)\n",
    "        self._type = type(value)\n",
    "        self._unit = None\n",
    "        self._creation = []\n",
    "        self._modification = []\n",
    "        self._use = []\n",
    "        self._parents = []\n",
    "        self._children = []\n",
    "        inspect_res = inspect.stack()\n",
    "        hrchy = self._process_stack(inspect_res)\n",
    "        if hrchy[0] == \"__init__\":\n",
    "            self._creation = [__name__] + hrchy[1:]\n",
    "    \n",
    "    def _process_stack(self, inspect_res):\n",
    "        hrchy = []\n",
    "        for res in inspect_res:\n",
    "            if res[3][0] == \"<\":\n",
    "                break\n",
    "            hrchy.append(res[3])\n",
    "        return hrchy\n",
    "    \n",
    "    @property\n",
    "    def value(self):\n",
    "        inspect_res = inspect.stack()\n",
    "        hrchy = self._process_stack(inspect_res)\n",
    "        self._use.append([__name__] + hrchy[1:])\n",
    "        return self._value\n",
    "\n",
    "    @value.setter\n",
    "    def value(self, val):\n",
    "        inspect_res = inspect.stack()\n",
    "        hrchy = self._process_stack(inspect_res)\n",
    "        self._modification.append([__name__] + hrchy[1:])\n",
    "        self._value = val\n",
    "        self._type = type(val)\n",
    "    \n",
    "    @property\n",
    "    def type(self):\n",
    "        return self._type\n",
    "    \n",
    "    @property\n",
    "    def unit(self):\n",
    "        return self._unit\n",
    "\n",
    "    @unit.setter\n",
    "    def unit(self, val):\n",
    "        self._unit = val\n",
    "        \n",
    "    def __add__(self, val):\n",
    "        var =  Variable(self.value + val)\n",
    "        if isinstance(val, Variable):\n",
    "            var._parents.append(id(val))\n",
    "        var._parents.append(id(self))\n",
    "        self._children.append(id(var))\n",
    "        return var"
   ]
  },
  {
   "cell_type": "code",
   "execution_count": 127,
   "id": "d723d18e-2d2e-42bb-bb5f-2ab00088a5b5",
   "metadata": {},
   "outputs": [],
   "source": [
    "t = Variable(2)"
   ]
  },
  {
   "cell_type": "code",
   "execution_count": 128,
   "id": "2bf69609-b40c-4778-9fff-9ce131742c84",
   "metadata": {},
   "outputs": [],
   "source": [
    "x = t + 2"
   ]
  },
  {
   "cell_type": "code",
   "execution_count": 129,
   "id": "72bec68a-8db4-48c5-b5bc-8e17081631ca",
   "metadata": {},
   "outputs": [
    {
     "data": {
      "text/plain": [
       "([139749006637904], [139748993031552], 139748993031552)"
      ]
     },
     "execution_count": 129,
     "metadata": {},
     "output_type": "execute_result"
    }
   ],
   "source": [
    "t._children, x._parents, t.id"
   ]
  },
  {
   "cell_type": "code",
   "execution_count": 130,
   "id": "ea871274-74d5-48c5-b523-c27fd9fffa21",
   "metadata": {},
   "outputs": [
    {
     "data": {
      "text/plain": [
       "['__main__', '__add__']"
      ]
     },
     "execution_count": 130,
     "metadata": {},
     "output_type": "execute_result"
    }
   ],
   "source": [
    "x._creation"
   ]
  },
  {
   "cell_type": "code",
   "execution_count": 133,
   "id": "cf3dbcf1-4bcd-4944-9593-6c82f941b1eb",
   "metadata": {},
   "outputs": [
    {
     "data": {
      "text/plain": [
       "[['__main__', '__add__']]"
      ]
     },
     "execution_count": 133,
     "metadata": {},
     "output_type": "execute_result"
    }
   ],
   "source": [
    "t._use"
   ]
  },
  {
   "cell_type": "code",
   "execution_count": 90,
   "id": "0fd8fd4b-33b3-41a0-a1aa-742082e5fb90",
   "metadata": {},
   "outputs": [],
   "source": [
    "newt = t.value * 3"
   ]
  },
  {
   "cell_type": "code",
   "execution_count": 93,
   "id": "760ee796-7908-48c0-a348-ef23c474823f",
   "metadata": {},
   "outputs": [
    {
     "data": {
      "text/plain": [
       "[['__main__'], ['__main__'], ['__main__'], ['__main__']]"
      ]
     },
     "execution_count": 93,
     "metadata": {},
     "output_type": "execute_result"
    }
   ],
   "source": [
    "t._use"
   ]
  },
  {
   "cell_type": "code",
   "execution_count": 83,
   "id": "ed173952-26d6-4cea-90be-a622e5cd8240",
   "metadata": {},
   "outputs": [
    {
     "data": {
      "text/plain": [
       "(['__main__'], [['__main__']], [['__main__']])"
      ]
     },
     "execution_count": 83,
     "metadata": {},
     "output_type": "execute_result"
    }
   ],
   "source": [
    "t._creation, t._modification, t._use"
   ]
  },
  {
   "cell_type": "code",
   "execution_count": 84,
   "id": "2b0e6308-060a-4f4f-8a3a-c73a54eaa9b2",
   "metadata": {},
   "outputs": [],
   "source": [
    "def create_var(val):\n",
    "    return Variable(val)\n",
    "\n",
    "def create_varvar(val):\n",
    "    return create_var(val)\n"
   ]
  },
  {
   "cell_type": "code",
   "execution_count": 86,
   "id": "e9f71138-eb58-4f96-a6b4-a87612aea009",
   "metadata": {},
   "outputs": [],
   "source": [
    "xx = create_varvar(23)"
   ]
  },
  {
   "cell_type": "code",
   "execution_count": 87,
   "id": "8bdb64ca-2d85-43c5-9a66-0735a558ad9b",
   "metadata": {},
   "outputs": [
    {
     "data": {
      "text/plain": [
       "['__main__', 'create_var', 'create_varvar']"
      ]
     },
     "execution_count": 87,
     "metadata": {},
     "output_type": "execute_result"
    }
   ],
   "source": [
    "xx._creation"
   ]
  },
  {
   "cell_type": "code",
   "execution_count": null,
   "id": "a649395b-c7cc-4481-89ee-22e0e62f8baf",
   "metadata": {},
   "outputs": [],
   "source": []
  }
 ],
 "metadata": {
  "kernelspec": {
   "display_name": "Python 3 (ipykernel)",
   "language": "python",
   "name": "python3"
  },
  "language_info": {
   "codemirror_mode": {
    "name": "ipython",
    "version": 3
   },
   "file_extension": ".py",
   "mimetype": "text/x-python",
   "name": "python",
   "nbconvert_exporter": "python",
   "pygments_lexer": "ipython3",
   "version": "3.10.5"
  }
 },
 "nbformat": 4,
 "nbformat_minor": 5
}
