{
 "cells": [
  {
   "cell_type": "code",
   "execution_count": 1,
   "id": "43e152cf-6f9d-46f7-ac39-a85d38ce4d7f",
   "metadata": {},
   "outputs": [
    {
     "name": "stderr",
     "output_type": "stream",
     "text": [
      "2022-11-11 10:50:49,228 - pyiron_log - WARNING - Configuration file may be read by others - check permissions to secure credential information!\n",
      "/home/menon/miniconda3/envs/pyiron-atom-dev/lib/python3.10/site-packages/paramiko-2.10.3-py3.10.egg/paramiko/transport.py:236: CryptographyDeprecationWarning: Blowfish has been deprecated\n",
      "  \"class\": algorithms.Blowfish,\n",
      "/home/menon/miniconda3/envs/pyiron-atom-dev/lib/python3.10/site-packages/pkg_resources/__init__.py:123: PkgResourcesDeprecationWarning: NOT-A-GIT-REPOSITORY is an invalid version and will not be supported in a future release\n",
      "  warnings.warn(\n"
     ]
    }
   ],
   "source": [
    "import numpy as np\n",
    "import scipy.constants as sc\n",
    "import matplotlib.pyplot as plt\n",
    "from pyiron_atomistics import Project"
   ]
  },
  {
   "cell_type": "code",
   "execution_count": 2,
   "id": "cdda5ec3-7340-49c1-b056-40d80bafb619",
   "metadata": {},
   "outputs": [],
   "source": [
    "ev_to_j = sc.physical_constants[\"electron volt-joule relationship\"][0]\n",
    "Av =  sc.physical_constants[\"Avogadro constant\"][0]\n",
    "A_to_m = 1E-10\n",
    "kB = sc.physical_constants[\"Boltzmann constant\"][0]"
   ]
  },
  {
   "cell_type": "code",
   "execution_count": 3,
   "id": "93ce2f18-89bb-40c8-9143-cff83310ac5b",
   "metadata": {},
   "outputs": [],
   "source": [
    "projectname = \"cp_t2\"\n",
    "element = \"Al\"\n",
    "repetitions = (4,4,4)\n",
    "temperature = 293\n",
    "pressure = 0\n",
    "potential = '2008--Mendelev-M-I--Al--LAMMPS--ipr1'\n",
    "atomic_mass = 26.98"
   ]
  },
  {
   "cell_type": "code",
   "execution_count": 4,
   "id": "6410de7c-a35c-42c4-983b-fb2198b88443",
   "metadata": {},
   "outputs": [],
   "source": [
    "def create_project(projectname = None):\n",
    "    pr = Project(projectname)\n",
    "    return projectname"
   ]
  },
  {
   "cell_type": "code",
   "execution_count": 5,
   "id": "0fcea866-2dc7-4094-bb6d-4a1b835ee429",
   "metadata": {},
   "outputs": [],
   "source": [
    "def create_structure(projectname = None, element=None, repetitions=(4,4,4)):\n",
    "    pr = Project(projectname)\n",
    "    structure = pr.create.structure.bulk(element, cubic=True).repeat(repetitions)\n",
    "    natoms = len(structure)\n",
    "    outfile = \"initial_structure.data\"\n",
    "    structure.write(outfile, format=\"vasp\")\n",
    "    return outfile, natoms"
   ]
  },
  {
   "cell_type": "code",
   "execution_count": 6,
   "id": "2f59e526-3689-42d2-b530-8d644b5b3681",
   "metadata": {},
   "outputs": [],
   "source": [
    "def equilibriate_structure(projectname=None, structure=None, temperature=None, \n",
    "                          pressure=None, potential=None):\n",
    "    pr = Project(projectname)\n",
    "    job = pr.create.job.Lammps(\"job1\", delete_existing_job=True,\n",
    "                              delete_aborted_job=True)\n",
    "    structure = pr.create.structure.read(structure, format=\"vasp\")\n",
    "    job.structure = structure\n",
    "    job.potential = potential\n",
    "    job.calc_md(temperature=temperature, \n",
    "                pressure=pressure, \n",
    "                n_ionic_steps=10000, \n",
    "                initial_temperature=temperature)\n",
    "    job.run()\n",
    "    eq_struct = job.get_structure()\n",
    "    outfile = \"equilibrium_structure.data\"\n",
    "    eq_struct.write(outfile, format=\"vasp\")\n",
    "    return outfile    "
   ]
  },
  {
   "cell_type": "code",
   "execution_count": 7,
   "id": "9c4d9004-8c96-4777-8691-0d126e0e03bb",
   "metadata": {},
   "outputs": [],
   "source": [
    "def get_energy_volume(projectname=None, structure=None, temperature=None, \n",
    "                          pressure=None, potential=None):\n",
    "    pr = Project(projectname)\n",
    "    job = pr.create.job.Lammps(\"job2\", delete_existing_job=True,\n",
    "                              delete_aborted_job=True)\n",
    "    structure = pr.create.structure.read(structure, format=\"vasp\")\n",
    "    job.structure = structure\n",
    "    job.potential = potential\n",
    "    job.calc_md(temperature=temperature, \n",
    "                pressure=pressure, \n",
    "                n_ionic_steps=100000, \n",
    "                initial_temperature=temperature,\n",
    "                n_print=100)\n",
    "    job.run()\n",
    "    energy_total = job.output.energy_tot\n",
    "    volume = job.output.volume\n",
    "    return energy_total, volume"
   ]
  },
  {
   "cell_type": "code",
   "execution_count": 8,
   "id": "d6aecd41-030c-492c-9901-7e979024d82a",
   "metadata": {},
   "outputs": [],
   "source": [
    "def calculate_cp(energy=None, no_atoms=None, \n",
    "                 temperature=None, atomic_mass=None):\n",
    "    emean = np.mean(energy)\n",
    "    efluct = energy - emean\n",
    "    efluctsq = (efluct*ev_to_j)**2\n",
    "    cp = np.mean(efluctsq)/(kB*temperature*temperature)\n",
    "    w = (no_atoms/Av)*1E3*atomic_mass\n",
    "    cp = (cp/w)*1000\n",
    "    return cp"
   ]
  },
  {
   "cell_type": "code",
   "execution_count": 9,
   "id": "2c033ca5-830c-4003-9d94-878754a8a61e",
   "metadata": {},
   "outputs": [],
   "source": [
    "def calculate_ap(energy=None, volume=None, temperature=None):\n",
    "    emean = np.mean(energy)\n",
    "    efluct = energy - emean\n",
    "    crossfluct = (efluct*ev_to_j)*(volume - np.mean(volume))\n",
    "    ap = np.mean(crossfluct)/(kB*temperature*temperature*np.mean(volume))\n",
    "    return ap"
   ]
  },
  {
   "cell_type": "code",
   "execution_count": 10,
   "id": "b4eb073e-bdee-461e-8d7d-2b6f9c0bc077",
   "metadata": {},
   "outputs": [
    {
     "data": {
      "text/plain": [
       "'cp_t2'"
      ]
     },
     "execution_count": 10,
     "metadata": {},
     "output_type": "execute_result"
    }
   ],
   "source": [
    "projectname = create_project(projectname)\n",
    "projectname"
   ]
  },
  {
   "cell_type": "code",
   "execution_count": 11,
   "id": "de5c16f2-f9fb-4212-83a8-dea29f645cc7",
   "metadata": {},
   "outputs": [
    {
     "data": {
      "text/plain": [
       "('initial_structure.data', 256)"
      ]
     },
     "execution_count": 11,
     "metadata": {},
     "output_type": "execute_result"
    }
   ],
   "source": [
    "structure, no_atoms = create_structure(projectname=projectname, element=element,\n",
    "                            repetitions=repetitions)\n",
    "structure, no_atoms"
   ]
  },
  {
   "cell_type": "code",
   "execution_count": 12,
   "id": "01eb66f6-3b47-40c2-a7af-56d23d63bd55",
   "metadata": {},
   "outputs": [
    {
     "name": "stdout",
     "output_type": "stream",
     "text": [
      "The job job1 was saved and received the ID: 353\n"
     ]
    },
    {
     "data": {
      "text/plain": [
       "'equilibrium_structure.data'"
      ]
     },
     "execution_count": 12,
     "metadata": {},
     "output_type": "execute_result"
    }
   ],
   "source": [
    "equil_structure = equilibriate_structure(projectname=projectname, \n",
    "                          structure=structure, \n",
    "                          temperature=temperature, \n",
    "                          pressure=pressure, \n",
    "                          potential=potential)\n",
    "equil_structure"
   ]
  },
  {
   "cell_type": "code",
   "execution_count": 13,
   "id": "3b9dee0a-d8f7-48a5-8466-626ce3cfc36e",
   "metadata": {},
   "outputs": [
    {
     "name": "stdout",
     "output_type": "stream",
     "text": [
      "The job job2 was saved and received the ID: 354\n"
     ]
    }
   ],
   "source": [
    "energy, volume = get_energy_volume(projectname=projectname, structure=equil_structure, \n",
    "                          temperature=temperature, \n",
    "                          pressure=pressure, potential=potential)"
   ]
  },
  {
   "cell_type": "code",
   "execution_count": 14,
   "id": "9e4c1c4d-4f5b-4be7-a7b0-00392de7ca19",
   "metadata": {},
   "outputs": [
    {
     "data": {
      "text/plain": [
       "0.9360438833189695"
      ]
     },
     "execution_count": 14,
     "metadata": {},
     "output_type": "execute_result"
    }
   ],
   "source": [
    "cp = calculate_cp(energy=energy, no_atoms=no_atoms, \n",
    "                 temperature=temperature, atomic_mass=atomic_mass)\n",
    "cp"
   ]
  },
  {
   "cell_type": "code",
   "execution_count": 15,
   "id": "5fba2096-6d43-4442-99a5-bab5ecbdf7b7",
   "metadata": {},
   "outputs": [
    {
     "data": {
      "text/plain": [
       "6.292018112751299e-05"
      ]
     },
     "execution_count": 15,
     "metadata": {},
     "output_type": "execute_result"
    }
   ],
   "source": [
    "ap = calculate_ap(energy=energy, volume=volume, temperature=temperature)\n",
    "ap"
   ]
  },
  {
   "cell_type": "code",
   "execution_count": null,
   "id": "47e30809-cabc-4dae-a55f-e08b0ea4d743",
   "metadata": {},
   "outputs": [],
   "source": []
  }
 ],
 "metadata": {
  "kernelspec": {
   "display_name": "Python 3 (ipykernel)",
   "language": "python",
   "name": "python3"
  },
  "language_info": {
   "codemirror_mode": {
    "name": "ipython",
    "version": 3
   },
   "file_extension": ".py",
   "mimetype": "text/x-python",
   "name": "python",
   "nbconvert_exporter": "python",
   "pygments_lexer": "ipython3",
   "version": "3.10.5"
  }
 },
 "nbformat": 4,
 "nbformat_minor": 5
}
