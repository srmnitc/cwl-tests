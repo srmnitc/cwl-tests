{
 "cells": [
  {
   "cell_type": "code",
   "execution_count": 1,
   "id": "aef6f59b-ad06-4e7a-a909-b9fbe88d015e",
   "metadata": {},
   "outputs": [
    {
     "name": "stderr",
     "output_type": "stream",
     "text": [
      "2022-11-11 08:39:46,492 - pyiron_log - WARNING - Configuration file may be read by others - check permissions to secure credential information!\n",
      "/home/menon/miniconda3/envs/pyiron-atom-dev/lib/python3.10/site-packages/paramiko-2.10.3-py3.10.egg/paramiko/transport.py:236: CryptographyDeprecationWarning: Blowfish has been deprecated\n",
      "  \"class\": algorithms.Blowfish,\n",
      "/home/menon/miniconda3/envs/pyiron-atom-dev/lib/python3.10/site-packages/pkg_resources/__init__.py:123: PkgResourcesDeprecationWarning: NOT-A-GIT-REPOSITORY is an invalid version and will not be supported in a future release\n",
      "  warnings.warn(\n"
     ]
    }
   ],
   "source": [
    "import numpy as np\n",
    "import scipy.constants as sc\n",
    "import matplotlib.pyplot as plt\n",
    "from pyiron_atomistics import Project"
   ]
  },
  {
   "cell_type": "code",
   "execution_count": 3,
   "id": "319f4900-1d3b-473d-b1c9-951664da62cf",
   "metadata": {},
   "outputs": [],
   "source": [
    "ev_to_j = sc.physical_constants[\"electron volt-joule relationship\"][0]\n",
    "Av =  sc.physical_constants[\"Avogadro constant\"][0]\n",
    "A_to_m = 1E-10\n",
    "kB = sc.physical_constants[\"Boltzmann constant\"][0]"
   ]
  },
  {
   "cell_type": "code",
   "execution_count": 53,
   "id": "49a01447-16af-4f4f-aabf-1616daff0136",
   "metadata": {},
   "outputs": [],
   "source": [
    "structure.write(\"a.data\", format=\"vasp\")"
   ]
  },
  {
   "cell_type": "code",
   "execution_count": 2,
   "id": "4fd53979-bab8-449f-b0c7-8fff0d045f80",
   "metadata": {},
   "outputs": [],
   "source": [
    "pr = Project(\"sp_t1\")"
   ]
  },
  {
   "cell_type": "code",
   "execution_count": 4,
   "id": "9b60b089-f49b-4d03-a4f1-27f3b716405a",
   "metadata": {},
   "outputs": [],
   "source": [
    "structure = pr.create.structure.bulk(\"Al\", cubic=True).repeat(4)"
   ]
  },
  {
   "cell_type": "code",
   "execution_count": 5,
   "id": "4f45eeff-5ad6-4655-8313-aebb366255d1",
   "metadata": {},
   "outputs": [],
   "source": [
    "job = pr.create.job.Lammps(\"job1\")"
   ]
  },
  {
   "cell_type": "code",
   "execution_count": 6,
   "id": "7959cfa5-b2db-4a95-aa2a-5de06dd28cd9",
   "metadata": {},
   "outputs": [],
   "source": [
    "job.structure = structure"
   ]
  },
  {
   "cell_type": "code",
   "execution_count": 9,
   "id": "92e65ac3-d5de-4f46-8fe4-d65a638f70ef",
   "metadata": {},
   "outputs": [],
   "source": [
    "job.potential = '2008--Mendelev-M-I--Al--LAMMPS--ipr1'"
   ]
  },
  {
   "cell_type": "code",
   "execution_count": 11,
   "id": "554f6b04-9da2-495a-ba3d-59fad15dfab8",
   "metadata": {},
   "outputs": [],
   "source": [
    "job.calc_md(temperature=293, pressure=0, n_ionic_steps=10000, initial_temperature=293)"
   ]
  },
  {
   "cell_type": "code",
   "execution_count": 12,
   "id": "55e964e5-6415-4dd1-a077-54107fc103af",
   "metadata": {},
   "outputs": [
    {
     "name": "stdout",
     "output_type": "stream",
     "text": [
      "The job job1 was saved and received the ID: 347\n"
     ]
    }
   ],
   "source": [
    "job.run()"
   ]
  },
  {
   "cell_type": "code",
   "execution_count": 13,
   "id": "08fe2790-5089-4a49-bc9f-66bbd3754803",
   "metadata": {},
   "outputs": [],
   "source": [
    "eq_struct = job.get_structure()"
   ]
  },
  {
   "cell_type": "code",
   "execution_count": 19,
   "id": "16cbbb1c-0bfe-44f7-ac97-dd897d6f588c",
   "metadata": {},
   "outputs": [],
   "source": [
    "job = pr.create.job.Lammps(\"job2\")\n",
    "job.structure = eq_struct\n",
    "job.potential = '2008--Mendelev-M-I--Al--LAMMPS--ipr1'"
   ]
  },
  {
   "cell_type": "code",
   "execution_count": 20,
   "id": "b815051a-bc96-40a9-959c-372b69c09b30",
   "metadata": {},
   "outputs": [],
   "source": [
    "job.calc_md(temperature=293, pressure=0, n_ionic_steps=100000, initial_temperature=293, n_print=100)"
   ]
  },
  {
   "cell_type": "code",
   "execution_count": 21,
   "id": "b39b53a4-ad6b-4e42-90a8-4ba050768866",
   "metadata": {},
   "outputs": [
    {
     "name": "stdout",
     "output_type": "stream",
     "text": [
      "The job job2 was saved and received the ID: 348\n"
     ]
    }
   ],
   "source": [
    "job.run()"
   ]
  },
  {
   "cell_type": "code",
   "execution_count": 22,
   "id": "9fc35e89-5efb-4694-84b9-1362f05d26a3",
   "metadata": {},
   "outputs": [],
   "source": [
    "etotal = job.output.energy_tot"
   ]
  },
  {
   "cell_type": "code",
   "execution_count": 24,
   "id": "121d24b4-75f8-4001-81d3-678c537f9929",
   "metadata": {},
   "outputs": [
    {
     "data": {
      "text/plain": [
       "[<matplotlib.lines.Line2D at 0x7fa945ec7310>]"
      ]
     },
     "execution_count": 24,
     "metadata": {},
     "output_type": "execute_result"
    },
    {
     "data": {
      "image/png": "[encoded data removed]",
      "text/plain": [
       "<Figure size 432x288 with 1 Axes>"
      ]
     },
     "metadata": {
      "needs_background": "light"
     },
     "output_type": "display_data"
    }
   ],
   "source": [
    "plt.plot(etotal)"
   ]
  },
  {
   "cell_type": "code",
   "execution_count": 26,
   "id": "d83342e0-ec1d-49d2-8bb4-08154a9f892a",
   "metadata": {},
   "outputs": [],
   "source": [
    "emean = np.mean(etotal)"
   ]
  },
  {
   "cell_type": "code",
   "execution_count": 27,
   "id": "801b7fd1-6b15-40f1-b477-f777e625280b",
   "metadata": {},
   "outputs": [],
   "source": [
    "efluct = etotal - np.mean(etotal)"
   ]
  },
  {
   "cell_type": "code",
   "execution_count": 28,
   "id": "6bfcbf3c-ff6a-44de-a6cd-a690a362593c",
   "metadata": {},
   "outputs": [],
   "source": [
    "efluctsq = (efluct*ev_to_j)**2"
   ]
  },
  {
   "cell_type": "code",
   "execution_count": 29,
   "id": "8d8d10dd-83de-4ade-8de2-3ce3f0ae45fe",
   "metadata": {},
   "outputs": [],
   "source": [
    "cp = np.mean(efluctsq)/(kB*293*293)"
   ]
  },
  {
   "cell_type": "code",
   "execution_count": 30,
   "id": "a476d92d-8f47-44da-8f72-fa09abf8fed6",
   "metadata": {},
   "outputs": [],
   "source": [
    " w = (len(structure)/Av)*1E3*26.98"
   ]
  },
  {
   "cell_type": "code",
   "execution_count": 32,
   "id": "5825023a-b5f4-4843-87c4-c442206cc8ca",
   "metadata": {},
   "outputs": [
    {
     "data": {
      "text/plain": [
       "0.9360438833189695"
      ]
     },
     "execution_count": 32,
     "metadata": {},
     "output_type": "execute_result"
    }
   ],
   "source": [
    "(cp/w)*1000"
   ]
  },
  {
   "cell_type": "code",
   "execution_count": 47,
   "id": "1c6d8758-12b8-441b-9001-f6adb53428ad",
   "metadata": {},
   "outputs": [
    {
     "data": {
      "text/plain": [
       "array([4349.01550259, 4300.00188375, 4344.75743083, ..., 4332.37525883,\n",
       "       4316.53765037, 4321.87570585])"
      ]
     },
     "execution_count": 47,
     "metadata": {},
     "output_type": "execute_result"
    }
   ],
   "source": [
    "vol = job.output.volume\n",
    "vol"
   ]
  },
  {
   "cell_type": "code",
   "execution_count": 48,
   "id": "5f82f7bc-ba8d-409b-82f7-275d542c84ae",
   "metadata": {},
   "outputs": [],
   "source": [
    "crossfluct = (efluct*ev_to_j)*(vol - np.mean(vol))"
   ]
  },
  {
   "cell_type": "code",
   "execution_count": 49,
   "id": "c7854ddb-cd3c-4bad-8b95-8d82a6524a91",
   "metadata": {},
   "outputs": [
    {
     "data": {
      "text/plain": [
       "array([ 2.96149822e-18, -1.13013034e-18, -2.69927992e-18, ...,\n",
       "        6.61453741e-19,  1.18506128e-19,  3.29201755e-19])"
      ]
     },
     "execution_count": 49,
     "metadata": {},
     "output_type": "execute_result"
    }
   ],
   "source": [
    "crossfluct"
   ]
  },
  {
   "cell_type": "code",
   "execution_count": 50,
   "id": "aa94010e-a808-4fbf-b4e9-25897f5f7315",
   "metadata": {},
   "outputs": [
    {
     "data": {
      "text/plain": [
       "6.292018112751299e-05"
      ]
     },
     "execution_count": 50,
     "metadata": {},
     "output_type": "execute_result"
    }
   ],
   "source": [
    "ap = np.mean(crossfluct)/(kB*293*293*np.mean(vol))\n",
    "ap"
   ]
  },
  {
   "cell_type": "code",
   "execution_count": null,
   "id": "ecdebae3-7384-4bb8-be82-89475b86f293",
   "metadata": {},
   "outputs": [],
   "source": []
  }
 ],
 "metadata": {
  "kernelspec": {
   "display_name": "Python 3 (ipykernel)",
   "language": "python",
   "name": "python3"
  },
  "language_info": {
   "codemirror_mode": {
    "name": "ipython",
    "version": 3
   },
   "file_extension": ".py",
   "mimetype": "text/x-python",
   "name": "python",
   "nbconvert_exporter": "python",
   "pygments_lexer": "ipython3",
   "version": "3.10.5"
  }
 },
 "nbformat": 4,
 "nbformat_minor": 5
}
