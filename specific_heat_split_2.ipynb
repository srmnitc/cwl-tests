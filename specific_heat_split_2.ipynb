{
 "cells": [
  {
   "cell_type": "code",
   "execution_count": 1,
   "id": "43e152cf-6f9d-46f7-ac39-a85d38ce4d7f",
   "metadata": {
    "tags": []
   },
   "outputs": [
    {
     "name": "stderr",
     "output_type": "stream",
     "text": [
      "2022-11-12 16:46:21,173 - pyiron_log - WARNING - Configuration file may be read by others - check permissions to secure credential information!\n",
      "/home/menon/miniconda3/envs/pyiron-atom-dev/lib/python3.10/site-packages/paramiko-2.10.3-py3.10.egg/paramiko/transport.py:236: CryptographyDeprecationWarning: Blowfish has been deprecated\n",
      "  \"class\": algorithms.Blowfish,\n",
      "/home/menon/miniconda3/envs/pyiron-atom-dev/lib/python3.10/site-packages/pkg_resources/__init__.py:123: PkgResourcesDeprecationWarning: NOT-A-GIT-REPOSITORY is an invalid version and will not be supported in a future release\n",
      "  warnings.warn(\n"
     ]
    }
   ],
   "source": [
    "import numpy as np\n",
    "import scipy.constants as sc\n",
    "import matplotlib.pyplot as plt\n",
    "from pyiron_atomistics import Project\n",
    "import inspect\n",
    "from cwl_helpers import *"
   ]
  },
  {
   "cell_type": "code",
   "execution_count": 2,
   "id": "cdda5ec3-7340-49c1-b056-40d80bafb619",
   "metadata": {},
   "outputs": [],
   "source": [
    "ev_to_j = sc.physical_constants[\"electron volt-joule relationship\"][0]\n",
    "Av =  sc.physical_constants[\"Avogadro constant\"][0]\n",
    "A_to_m = 1E-10\n",
    "kB = sc.physical_constants[\"Boltzmann constant\"][0]"
   ]
  },
  {
   "cell_type": "code",
   "execution_count": 3,
   "id": "93ce2f18-89bb-40c8-9143-cff83310ac5b",
   "metadata": {},
   "outputs": [],
   "source": [
    "input_list = { \n",
    "    \"projectname\": \"cp_t5\",\n",
    "    \"element\": \"Al\",\n",
    "    \"repetitions\": (4,4,4),\n",
    "    \"temperature\": 293,\n",
    "    \"pressure\": 0,\n",
    "    \"potential\": '2008--Mendelev-M-I--Al--LAMMPS--ipr1',\n",
    "    \"atomic_mass\": 26.98 }"
   ]
  },
  {
   "cell_type": "code",
   "execution_count": 4,
   "id": "5d3775a4-0ef0-4269-8f86-9f600e5a3a14",
   "metadata": {},
   "outputs": [],
   "source": [
    "cwl = create_cwldict()"
   ]
  },
  {
   "cell_type": "code",
   "execution_count": 5,
   "id": "b7f017e3-390f-48ee-ad48-c77a395c0a8a",
   "metadata": {},
   "outputs": [],
   "source": [
    "add_to_inputs(cwl, input_list)"
   ]
  },
  {
   "cell_type": "code",
   "execution_count": 6,
   "id": "6410de7c-a35c-42c4-983b-fb2198b88443",
   "metadata": {},
   "outputs": [],
   "source": [
    "@generate_step(cwl, ins={\"projectname\": \"projectname\"}, outs=[\"modprojectname\"])\n",
    "def create_project(projectname = None):\n",
    "    pr = Project(projectname)\n",
    "    return projectname"
   ]
  },
  {
   "cell_type": "code",
   "execution_count": 7,
   "id": "0fcea866-2dc7-4094-bb6d-4a1b835ee429",
   "metadata": {},
   "outputs": [],
   "source": [
    "@generate_step(cwl, ins={\"projectname\": \"create_project/modprojectname\", \"element\":\"element\",\n",
    "                        \"repetitions\":\"repetitions\"}, outs=[\"outfile\", \"natoms\"])\n",
    "def create_structure(projectname = None, element=None, repetitions=(4,4,4)):\n",
    "    pr = Project(projectname)\n",
    "    inspect_res = inspect.stack()\n",
    "    structure = pr.create.structure.bulk(element, cubic=True).repeat(repetitions)\n",
    "    natoms = len(structure)\n",
    "    outfile = \"initial_structure.data\"\n",
    "    structure.write(outfile, format=\"vasp\")\n",
    "    return outfile, natoms"
   ]
  },
  {
   "cell_type": "code",
   "execution_count": 8,
   "id": "2f59e526-3689-42d2-b530-8d644b5b3681",
   "metadata": {},
   "outputs": [],
   "source": [
    "@generate_step(cwl, ins={\"projectname\": \"create_project/modprojectname\", \"structure\":\"create_structure/outfile\",\n",
    "                        \"temperature\":\"temperature\", \"pressure\":\"pressure\",\n",
    "                        \"potential\":\"potential\"}, outs=[\"equil_structure\"])\n",
    "def equilibriate_structure(projectname=None, structure=None, temperature=None, \n",
    "                          pressure=None, potential=None):\n",
    "    pr = Project(projectname)\n",
    "    job = pr.create.job.Lammps(\"job1\", delete_existing_job=True,\n",
    "                              delete_aborted_job=True)\n",
    "    structure = pr.create.structure.read(structure, format=\"vasp\")\n",
    "    job.structure = structure\n",
    "    job.potential = potential\n",
    "    job.calc_md(temperature=temperature, \n",
    "                pressure=pressure, \n",
    "                n_ionic_steps=1000, \n",
    "                initial_temperature=temperature)\n",
    "    job.run()\n",
    "    eq_struct = job.get_structure()\n",
    "    outfile = \"equilibrium_structure.data\"\n",
    "    eq_struct.write(outfile, format=\"vasp\")\n",
    "    return outfile    "
   ]
  },
  {
   "cell_type": "code",
   "execution_count": 9,
   "id": "9c4d9004-8c96-4777-8691-0d126e0e03bb",
   "metadata": {},
   "outputs": [],
   "source": [
    "@generate_step(cwl, ins={\"projectname\": \"create_project/modprojectname\", \"structure\":\"equilibriate_structure/equil_structure\",\n",
    "                        \"temperature\":\"temperature\", \"pressure\":\"pressure\",\n",
    "                        \"potential\":\"potential\"}, outs=[\"energy_total\", \"volume\"])\n",
    "def get_energy_volume(projectname=None, structure=None, temperature=None, \n",
    "                          pressure=None, potential=None):\n",
    "    pr = Project(projectname)\n",
    "    job = pr.create.job.Lammps(\"job2\", delete_existing_job=True,\n",
    "                              delete_aborted_job=True)\n",
    "    structure = pr.create.structure.read(structure, format=\"vasp\")\n",
    "    job.structure = structure\n",
    "    job.potential = potential\n",
    "    job.calc_md(temperature=temperature, \n",
    "                pressure=pressure, \n",
    "                n_ionic_steps=1000, \n",
    "                initial_temperature=temperature,\n",
    "                n_print=100)\n",
    "    job.run()\n",
    "    energy_total = job.output.energy_tot\n",
    "    volume = job.output.volume\n",
    "    return energy_total, volume"
   ]
  },
  {
   "cell_type": "code",
   "execution_count": 10,
   "id": "d6aecd41-030c-492c-9901-7e979024d82a",
   "metadata": {},
   "outputs": [],
   "source": [
    "@generate_step(cwl, ins={\"energy\":\"get_energy_volume/energy_total\", \"no_atoms\": \"create_structure/natoms\",\n",
    "                        \"temperature\": \"temperature\", \"atomic_mass\": \"atomic_mass\"}, outs=[\"cp\"])\n",
    "def calculate_cp(energy=None, no_atoms=None, \n",
    "                 temperature=None, atomic_mass=None):\n",
    "    emean = np.mean(energy)\n",
    "    efluct = energy - emean\n",
    "    efluctsq = (efluct*ev_to_j)**2\n",
    "    cp = np.mean(efluctsq)/(kB*temperature*temperature)\n",
    "    w = (no_atoms/Av)*1E3*atomic_mass\n",
    "    cp = (cp/w)*1000\n",
    "    return cp"
   ]
  },
  {
   "cell_type": "code",
   "execution_count": 11,
   "id": "2c033ca5-830c-4003-9d94-878754a8a61e",
   "metadata": {},
   "outputs": [],
   "source": [
    "@generate_step(cwl, ins={\"energy\":\"get_energy_volume/energy_total\", \"volume\": \"get_energy_volume/energy_total\",\n",
    "                        \"temperature\": \"temperature\"}, outs=[\"ap\"])\n",
    "def calculate_ap(energy=None, volume=None, temperature=None):\n",
    "    emean = np.mean(energy)\n",
    "    efluct = energy - emean\n",
    "    crossfluct = (efluct*ev_to_j)*(volume - np.mean(volume))\n",
    "    ap = np.mean(crossfluct)/(kB*temperature*temperature*np.mean(volume))\n",
    "    return ap"
   ]
  },
  {
   "cell_type": "code",
   "execution_count": 12,
   "id": "b4eb073e-bdee-461e-8d7d-2b6f9c0bc077",
   "metadata": {},
   "outputs": [
    {
     "data": {
      "text/plain": [
       "'cp_t5'"
      ]
     },
     "execution_count": 12,
     "metadata": {},
     "output_type": "execute_result"
    }
   ],
   "source": [
    "projectname = create_project(projectname = input_list[\"projectname\"])\n",
    "projectname"
   ]
  },
  {
   "cell_type": "code",
   "execution_count": 13,
   "id": "de5c16f2-f9fb-4212-83a8-dea29f645cc7",
   "metadata": {},
   "outputs": [
    {
     "data": {
      "text/plain": [
       "('initial_structure.data', 256)"
      ]
     },
     "execution_count": 13,
     "metadata": {},
     "output_type": "execute_result"
    }
   ],
   "source": [
    "structure, no_atoms = create_structure(projectname=projectname, element=input_list[\"element\"],\n",
    "                            repetitions=input_list[\"repetitions\"])\n",
    "structure, no_atoms"
   ]
  },
  {
   "cell_type": "code",
   "execution_count": 14,
   "id": "01eb66f6-3b47-40c2-a7af-56d23d63bd55",
   "metadata": {},
   "outputs": [
    {
     "name": "stdout",
     "output_type": "stream",
     "text": [
      "The job job1 was saved and received the ID: 359\n"
     ]
    },
    {
     "data": {
      "text/plain": [
       "'equilibrium_structure.data'"
      ]
     },
     "execution_count": 14,
     "metadata": {},
     "output_type": "execute_result"
    }
   ],
   "source": [
    "equil_structure = equilibriate_structure(projectname=projectname, \n",
    "                          structure=structure, \n",
    "                          temperature=input_list[\"temperature\"], \n",
    "                          pressure=input_list[\"pressure\"], \n",
    "                          potential=input_list[\"potential\"])\n",
    "equil_structure"
   ]
  },
  {
   "cell_type": "code",
   "execution_count": 15,
   "id": "3b9dee0a-d8f7-48a5-8466-626ce3cfc36e",
   "metadata": {},
   "outputs": [
    {
     "name": "stdout",
     "output_type": "stream",
     "text": [
      "The job job2 was saved and received the ID: 360\n"
     ]
    }
   ],
   "source": [
    "energy, volume = get_energy_volume(projectname=projectname, structure=equil_structure, \n",
    "                          temperature=input_list[\"temperature\"], \n",
    "                          pressure=input_list[\"pressure\"], \n",
    "                          potential=input_list[\"potential\"])"
   ]
  },
  {
   "cell_type": "code",
   "execution_count": 16,
   "id": "9e4c1c4d-4f5b-4be7-a7b0-00392de7ca19",
   "metadata": {},
   "outputs": [
    {
     "data": {
      "text/plain": [
       "0.9672912142193067"
      ]
     },
     "execution_count": 16,
     "metadata": {},
     "output_type": "execute_result"
    }
   ],
   "source": [
    "cp = calculate_cp(energy=energy, no_atoms=no_atoms, \n",
    "                 temperature=input_list[\"temperature\"], atomic_mass=input_list[\"atomic_mass\"])\n",
    "cp"
   ]
  },
  {
   "cell_type": "code",
   "execution_count": 17,
   "id": "5fba2096-6d43-4442-99a5-bab5ecbdf7b7",
   "metadata": {},
   "outputs": [
    {
     "data": {
      "text/plain": [
       "7.972319362290918e-05"
      ]
     },
     "execution_count": 17,
     "metadata": {},
     "output_type": "execute_result"
    }
   ],
   "source": [
    "ap = calculate_ap(energy=energy, volume=volume, temperature=input_list[\"temperature\"])\n",
    "ap"
   ]
  },
  {
   "cell_type": "code",
   "execution_count": 18,
   "id": "628bd8aa-5768-4f58-96da-99d5054940cc",
   "metadata": {},
   "outputs": [],
   "source": [
    "cwl[\"outputs\"] = {}\n",
    "cwl[\"outputs\"][\"cp\"] = {}\n",
    "cwl[\"outputs\"][\"cp\"][\"type\"] = \"float\"\n",
    "cwl[\"outputs\"][\"cp\"][\"outputSource\"] = \"calculate_cp/cp\"\n",
    "cwl[\"outputs\"][\"ap\"] = {}\n",
    "cwl[\"outputs\"][\"ap\"][\"type\"] = \"float\"\n",
    "cwl[\"outputs\"][\"ap\"][\"outputSource\"] = \"calculate_ap/ap\""
   ]
  },
  {
   "cell_type": "code",
   "execution_count": 19,
   "id": "ca4c20d4-3686-451f-9d6f-313410f3d8fa",
   "metadata": {},
   "outputs": [],
   "source": [
    "import yaml"
   ]
  },
  {
   "cell_type": "code",
   "execution_count": 20,
   "id": "f1a4148f-506d-4426-a2f0-68df6ec4b540",
   "metadata": {},
   "outputs": [],
   "source": [
    "with open(\"recipe_auto.cwl\", \"w\") as fout:\n",
    "    yaml.safe_dump(cwl, fout)"
   ]
  },
  {
   "cell_type": "code",
   "execution_count": 21,
   "id": "b99f7cc1-9863-434d-b0e4-240d953a657f",
   "metadata": {},
   "outputs": [],
   "source": [
    "import graphviz"
   ]
  },
  {
   "cell_type": "code",
   "execution_count": 22,
   "id": "47e30809-cabc-4dae-a55f-e08b0ea4d743",
   "metadata": {},
   "outputs": [
    {
     "data": {
      "image/svg+xml": [
       "<?xml version=\"1.0\" encoding=\"UTF-8\" standalone=\"no\"?>\n",
       "<!DOCTYPE svg PUBLIC \"-//W3C//DTD SVG 1.1//EN\"\n",
       " \"http://www.w3.org/Graphics/SVG/1.1/DTD/svg11.dtd\">\n",
       "<!-- Generated by graphviz version 6.0.1 (20220911.2005)\n",
       " -->\n",
       "<!-- Title: G Pages: 1 -->\n",
       "<svg width=\"922pt\" height=\"496pt\"\n",
       " viewBox=\"0.00 0.00 921.50 495.51\" xmlns=\"http://www.w3.org/2000/svg\" xmlns:xlink=\"http://www.w3.org/1999/xlink\">\n",
       "<g id=\"graph0\" class=\"graph\" transform=\"scale(1 1) rotate(0) translate(4 491.51)\">\n",
       "<title>G</title>\n",
       "<polygon fill=\"#eeeeee\" stroke=\"none\" points=\"-4,4 -4,-491.51 917.5,-491.51 917.5,4 -4,4\"/>\n",
       "<g id=\"clust1\" class=\"cluster\">\n",
       "<title>cluster_inputs</title>\n",
       "<polygon fill=\"#eeeeee\" stroke=\"black\" stroke-dasharray=\"5,2\" points=\"129.5,-376 129.5,-452 905.5,-452 905.5,-376 129.5,-376\"/>\n",
       "<text text-anchor=\"middle\" x=\"839\" y=\"-383.8\" font-family=\"Times,serif\" font-size=\"14.00\">Workflow Inputs</text>\n",
       "</g>\n",
       "<g id=\"clust2\" class=\"cluster\">\n",
       "<title>cluster_outputs</title>\n",
       "<polygon fill=\"#eeeeee\" stroke=\"black\" stroke-dasharray=\"5,2\" points=\"562.5,-8 562.5,-84 707.5,-84 707.5,-8 562.5,-8\"/>\n",
       "<text text-anchor=\"middle\" x=\"635\" y=\"-15.8\" font-family=\"Times,serif\" font-size=\"14.00\">Workflow Outputs</text>\n",
       "</g>\n",
       "<!-- get_energy_volume -->\n",
       "<g id=\"node1\" class=\"node\">\n",
       "<title>get_energy_volume</title>\n",
       "<polygon fill=\"none\" stroke=\"black\" stroke-dasharray=\"5,2\" points=\"496,-185.5 496,-221.5 651,-221.5 651,-185.5 496,-185.5\"/>\n",
       "<text text-anchor=\"middle\" x=\"573.5\" y=\"-199.8\" font-family=\"Times,serif\" font-size=\"14.00\">get_energy_volume</text>\n",
       "</g>\n",
       "<!-- calculate_ap -->\n",
       "<g id=\"node2\" class=\"node\">\n",
       "<title>calculate_ap</title>\n",
       "<polygon fill=\"none\" stroke=\"black\" stroke-dasharray=\"5,2\" points=\"521.5,-112.5 521.5,-148.5 625.5,-148.5 625.5,-112.5 521.5,-112.5\"/>\n",
       "<text text-anchor=\"middle\" x=\"573.5\" y=\"-126.8\" font-family=\"Times,serif\" font-size=\"14.00\">calculate_ap</text>\n",
       "</g>\n",
       "<!-- get_energy_volume&#45;&gt;calculate_ap -->\n",
       "<g id=\"edge1\" class=\"edge\">\n",
       "<title>get_energy_volume&#45;&gt;calculate_ap</title>\n",
       "<path fill=\"none\" stroke=\"black\" d=\"M567.62,-185.31C566.78,-177.29 566.55,-167.55 566.92,-158.57\"/>\n",
       "<polygon fill=\"black\" stroke=\"black\" points=\"570.42,-158.75 567.64,-148.53 563.44,-158.25 570.42,-158.75\"/>\n",
       "</g>\n",
       "<!-- get_energy_volume&#45;&gt;calculate_ap -->\n",
       "<g id=\"edge2\" class=\"edge\">\n",
       "<title>get_energy_volume&#45;&gt;calculate_ap</title>\n",
       "<path fill=\"none\" stroke=\"black\" d=\"M579.38,-185.31C580.22,-177.29 580.45,-167.55 580.08,-158.57\"/>\n",
       "<polygon fill=\"black\" stroke=\"black\" points=\"583.56,-158.25 579.36,-148.53 576.58,-158.75 583.56,-158.25\"/>\n",
       "</g>\n",
       "<!-- calculate_cp -->\n",
       "<g id=\"node3\" class=\"node\">\n",
       "<title>calculate_cp</title>\n",
       "<polygon fill=\"none\" stroke=\"black\" stroke-dasharray=\"5,2\" points=\"643.5,-112.5 643.5,-148.5 747.5,-148.5 747.5,-112.5 643.5,-112.5\"/>\n",
       "<text text-anchor=\"middle\" x=\"695.5\" y=\"-126.8\" font-family=\"Times,serif\" font-size=\"14.00\">calculate_cp</text>\n",
       "</g>\n",
       "<!-- get_energy_volume&#45;&gt;calculate_cp -->\n",
       "<g id=\"edge3\" class=\"edge\">\n",
       "<title>get_energy_volume&#45;&gt;calculate_cp</title>\n",
       "<path fill=\"none\" stroke=\"black\" d=\"M602.72,-185.49C619.05,-175.99 639.59,-164.04 657.19,-153.79\"/>\n",
       "<polygon fill=\"black\" stroke=\"black\" points=\"659.21,-156.67 666.09,-148.61 655.69,-150.62 659.21,-156.67\"/>\n",
       "</g>\n",
       "<!-- ap -->\n",
       "<g id=\"node14\" class=\"node\">\n",
       "<title>ap</title>\n",
       "<polygon fill=\"#94ddf4\" stroke=\"black\" points=\"570.5,-39.5 570.5,-75.5 624.5,-75.5 624.5,-39.5 570.5,-39.5\"/>\n",
       "<text text-anchor=\"middle\" x=\"597.5\" y=\"-53.8\" font-family=\"Times,serif\" font-size=\"14.00\">ap</text>\n",
       "</g>\n",
       "<!-- calculate_ap&#45;&gt;ap -->\n",
       "<g id=\"edge22\" class=\"edge\">\n",
       "<title>calculate_ap&#45;&gt;ap</title>\n",
       "<path fill=\"none\" stroke=\"black\" d=\"M579.31,-112.31C582.05,-104.2 585.39,-94.34 588.45,-85.28\"/>\n",
       "<polygon fill=\"black\" stroke=\"black\" points=\"591.86,-86.12 591.74,-75.53 585.23,-83.88 591.86,-86.12\"/>\n",
       "</g>\n",
       "<!-- cp -->\n",
       "<g id=\"node15\" class=\"node\">\n",
       "<title>cp</title>\n",
       "<polygon fill=\"#94ddf4\" stroke=\"black\" points=\"645.5,-39.5 645.5,-75.5 699.5,-75.5 699.5,-39.5 645.5,-39.5\"/>\n",
       "<text text-anchor=\"middle\" x=\"672.5\" y=\"-53.8\" font-family=\"Times,serif\" font-size=\"14.00\">cp</text>\n",
       "</g>\n",
       "<!-- calculate_cp&#45;&gt;cp -->\n",
       "<g id=\"edge23\" class=\"edge\">\n",
       "<title>calculate_cp&#45;&gt;cp</title>\n",
       "<path fill=\"none\" stroke=\"black\" d=\"M689.93,-112.31C687.3,-104.2 684.11,-94.34 681.17,-85.28\"/>\n",
       "<polygon fill=\"black\" stroke=\"black\" points=\"684.43,-83.96 678.02,-75.53 677.77,-86.12 684.43,-83.96\"/>\n",
       "</g>\n",
       "<!-- create_structure -->\n",
       "<g id=\"node4\" class=\"node\">\n",
       "<title>create_structure</title>\n",
       "<polygon fill=\"none\" stroke=\"black\" stroke-dasharray=\"5,2\" points=\"180,-331.5 180,-367.5 315,-367.5 315,-331.5 180,-331.5\"/>\n",
       "<text text-anchor=\"middle\" x=\"247.5\" y=\"-345.8\" font-family=\"Times,serif\" font-size=\"14.00\">create_structure</text>\n",
       "</g>\n",
       "<!-- create_structure&#45;&gt;calculate_cp -->\n",
       "<g id=\"edge4\" class=\"edge\">\n",
       "<title>create_structure&#45;&gt;calculate_cp</title>\n",
       "<path fill=\"none\" stroke=\"black\" d=\"M262.89,-331.27C280.89,-311.8 312.2,-279.99 343.5,-258 402.21,-216.74 420.21,-209.92 487.5,-185 547.62,-162.73 567.62,-165.9 633.27,-149.23\"/>\n",
       "<polygon fill=\"black\" stroke=\"black\" points=\"634.5,-152.53 643.29,-146.62 632.73,-145.75 634.5,-152.53\"/>\n",
       "</g>\n",
       "<!-- equilibriate_structure -->\n",
       "<g id=\"node6\" class=\"node\">\n",
       "<title>equilibriate_structure</title>\n",
       "<polygon fill=\"none\" stroke=\"black\" stroke-dasharray=\"5,2\" points=\"372,-258.5 372,-294.5 545,-294.5 545,-258.5 372,-258.5\"/>\n",
       "<text text-anchor=\"middle\" x=\"458.5\" y=\"-272.8\" font-family=\"Times,serif\" font-size=\"14.00\">equilibriate_structure</text>\n",
       "</g>\n",
       "<!-- create_structure&#45;&gt;equilibriate_structure -->\n",
       "<g id=\"edge6\" class=\"edge\">\n",
       "<title>create_structure&#45;&gt;equilibriate_structure</title>\n",
       "<path fill=\"none\" stroke=\"black\" d=\"M298.04,-331.49C328.09,-321.38 366.4,-308.49 398.05,-297.84\"/>\n",
       "<polygon fill=\"black\" stroke=\"black\" points=\"399.28,-301.12 407.64,-294.61 397.05,-294.49 399.28,-301.12\"/>\n",
       "</g>\n",
       "<!-- create_project -->\n",
       "<g id=\"node5\" class=\"node\">\n",
       "<title>create_project</title>\n",
       "<polygon fill=\"none\" stroke=\"black\" stroke-dasharray=\"5,2\" points=\"0,-407.5 0,-443.5 119,-443.5 119,-407.5 0,-407.5\"/>\n",
       "<text text-anchor=\"middle\" x=\"59.5\" y=\"-421.8\" font-family=\"Times,serif\" font-size=\"14.00\">create_project</text>\n",
       "</g>\n",
       "<!-- create_project&#45;&gt;get_energy_volume -->\n",
       "<g id=\"edge9\" class=\"edge\">\n",
       "<title>create_project&#45;&gt;get_energy_volume</title>\n",
       "<path fill=\"none\" stroke=\"black\" d=\"M65.01,-407.43C72.63,-386.47 88.37,-351.2 113.5,-331 221.77,-243.94 385.65,-216.66 485.78,-208.2\"/>\n",
       "<polygon fill=\"black\" stroke=\"black\" points=\"486.18,-211.68 495.86,-207.39 485.62,-204.7 486.18,-211.68\"/>\n",
       "</g>\n",
       "<!-- create_project&#45;&gt;create_structure -->\n",
       "<g id=\"edge5\" class=\"edge\">\n",
       "<title>create_project&#45;&gt;create_structure</title>\n",
       "<path fill=\"none\" stroke=\"black\" d=\"M78.05,-407.48C90.58,-396.89 107.97,-383.83 125.5,-376 130.25,-373.88 148.68,-369.75 169.83,-365.42\"/>\n",
       "<polygon fill=\"black\" stroke=\"black\" points=\"170.59,-368.83 179.7,-363.42 169.2,-361.97 170.59,-368.83\"/>\n",
       "</g>\n",
       "<!-- create_project&#45;&gt;equilibriate_structure -->\n",
       "<g id=\"edge7\" class=\"edge\">\n",
       "<title>create_project&#45;&gt;equilibriate_structure</title>\n",
       "<path fill=\"none\" stroke=\"black\" d=\"M74.68,-407.27C94.64,-385.8 131.85,-349.66 171.5,-331 231.09,-302.95 304.13,-289.59 361.62,-283.24\"/>\n",
       "<polygon fill=\"black\" stroke=\"black\" points=\"362.22,-286.69 371.8,-282.17 361.49,-279.73 362.22,-286.69\"/>\n",
       "</g>\n",
       "<!-- equilibriate_structure&#45;&gt;get_energy_volume -->\n",
       "<g id=\"edge8\" class=\"edge\">\n",
       "<title>equilibriate_structure&#45;&gt;get_energy_volume</title>\n",
       "<path fill=\"none\" stroke=\"black\" d=\"M486.05,-258.49C501.3,-249.08 520.45,-237.26 536.94,-227.07\"/>\n",
       "<polygon fill=\"black\" stroke=\"black\" points=\"539.11,-229.85 545.78,-221.61 535.43,-223.89 539.11,-229.85\"/>\n",
       "</g>\n",
       "<!-- temperature -->\n",
       "<g id=\"node7\" class=\"node\">\n",
       "<title>temperature</title>\n",
       "<polygon fill=\"#94ddf4\" stroke=\"black\" points=\"664,-407.5 664,-443.5 771,-443.5 771,-407.5 664,-407.5\"/>\n",
       "<text text-anchor=\"middle\" x=\"717.5\" y=\"-421.8\" font-family=\"Times,serif\" font-size=\"14.00\">temperature</text>\n",
       "</g>\n",
       "<!-- temperature&#45;&gt;get_energy_volume -->\n",
       "<g id=\"edge13\" class=\"edge\">\n",
       "<title>temperature&#45;&gt;get_energy_volume</title>\n",
       "<path fill=\"none\" stroke=\"black\" d=\"M703.1,-407.07C694.24,-396.1 682.84,-381.5 673.5,-368 640.93,-320.93 606.98,-263.3 588.21,-230.55\"/>\n",
       "<polygon fill=\"black\" stroke=\"black\" points=\"591.11,-228.56 583.11,-221.61 585.03,-232.03 591.11,-228.56\"/>\n",
       "</g>\n",
       "<!-- temperature&#45;&gt;calculate_ap -->\n",
       "<g id=\"edge10\" class=\"edge\">\n",
       "<title>temperature&#45;&gt;calculate_ap</title>\n",
       "<path fill=\"none\" stroke=\"black\" d=\"M714.2,-407.33C704.16,-355.55 673.78,-203.35 660.5,-185 651.2,-172.16 637.79,-161.76 624.26,-153.66\"/>\n",
       "<polygon fill=\"black\" stroke=\"black\" points=\"625.84,-150.53 615.4,-148.68 622.4,-156.63 625.84,-150.53\"/>\n",
       "</g>\n",
       "<!-- temperature&#45;&gt;calculate_cp -->\n",
       "<g id=\"edge11\" class=\"edge\">\n",
       "<title>temperature&#45;&gt;calculate_cp</title>\n",
       "<path fill=\"none\" stroke=\"black\" d=\"M716.62,-407.35C714.54,-368 708.94,-268.22 701.5,-185 700.74,-176.49 699.76,-167.24 698.81,-158.86\"/>\n",
       "<polygon fill=\"black\" stroke=\"black\" points=\"702.27,-158.36 697.64,-148.83 695.32,-159.17 702.27,-158.36\"/>\n",
       "</g>\n",
       "<!-- temperature&#45;&gt;equilibriate_structure -->\n",
       "<g id=\"edge12\" class=\"edge\">\n",
       "<title>temperature&#45;&gt;equilibriate_structure</title>\n",
       "<path fill=\"none\" stroke=\"black\" d=\"M698.01,-407.38C686.01,-397.4 670.01,-385.03 654.5,-376 646.58,-371.39 643.81,-371.87 635.5,-368 588.11,-345.94 534.83,-318.31 499.23,-299.41\"/>\n",
       "<polygon fill=\"black\" stroke=\"black\" points=\"500.6,-296.18 490.12,-294.57 497.31,-302.36 500.6,-296.18\"/>\n",
       "</g>\n",
       "<!-- atomic_mass -->\n",
       "<g id=\"node8\" class=\"node\">\n",
       "<title>atomic_mass</title>\n",
       "<polygon fill=\"#94ddf4\" stroke=\"black\" points=\"789.5,-407.5 789.5,-443.5 897.5,-443.5 897.5,-407.5 789.5,-407.5\"/>\n",
       "<text text-anchor=\"middle\" x=\"843.5\" y=\"-421.8\" font-family=\"Times,serif\" font-size=\"14.00\">atomic_mass</text>\n",
       "</g>\n",
       "<!-- atomic_mass&#45;&gt;calculate_cp -->\n",
       "<g id=\"edge14\" class=\"edge\">\n",
       "<title>atomic_mass&#45;&gt;calculate_cp</title>\n",
       "<path fill=\"none\" stroke=\"black\" d=\"M834.9,-407.48C810.12,-358.43 738.44,-216.5 708.68,-157.6\"/>\n",
       "<polygon fill=\"black\" stroke=\"black\" points=\"711.75,-155.91 704.12,-148.57 705.51,-159.07 711.75,-155.91\"/>\n",
       "</g>\n",
       "<!-- projectname -->\n",
       "<g id=\"node9\" class=\"node\">\n",
       "<title>projectname</title>\n",
       "<polygon fill=\"#94ddf4\" stroke=\"black\" points=\"539.5,-407.5 539.5,-443.5 645.5,-443.5 645.5,-407.5 539.5,-407.5\"/>\n",
       "<text text-anchor=\"middle\" x=\"592.5\" y=\"-421.8\" font-family=\"Times,serif\" font-size=\"14.00\">projectname</text>\n",
       "</g>\n",
       "<!-- projectname&#45;&gt;create_project -->\n",
       "<g id=\"edge15\" class=\"edge\">\n",
       "<title>projectname&#45;&gt;create_project</title>\n",
       "<path fill=\"none\" stroke=\"black\" d=\"M570.73,-443.66C557.42,-453.56 539.54,-464.82 521.5,-470 438.85,-493.76 217.44,-492.75 134.5,-470 119.2,-465.8 103.85,-457.58 91.07,-449.34\"/>\n",
       "<polygon fill=\"black\" stroke=\"black\" points=\"92.9,-446.36 82.65,-443.67 88.99,-452.16 92.9,-446.36\"/>\n",
       "</g>\n",
       "<!-- element -->\n",
       "<g id=\"node10\" class=\"node\">\n",
       "<title>element</title>\n",
       "<polygon fill=\"#94ddf4\" stroke=\"black\" points=\"137.5,-407.5 137.5,-443.5 211.5,-443.5 211.5,-407.5 137.5,-407.5\"/>\n",
       "<text text-anchor=\"middle\" x=\"174.5\" y=\"-421.8\" font-family=\"Times,serif\" font-size=\"14.00\">element</text>\n",
       "</g>\n",
       "<!-- element&#45;&gt;create_structure -->\n",
       "<g id=\"edge16\" class=\"edge\">\n",
       "<title>element&#45;&gt;create_structure</title>\n",
       "<path fill=\"none\" stroke=\"black\" d=\"M190.93,-407.34C199.9,-398.01 211.25,-386.31 221.5,-376 221.83,-375.66 222.17,-375.33 222.51,-374.98\"/>\n",
       "<polygon fill=\"black\" stroke=\"black\" points=\"225.19,-377.25 229.82,-367.72 220.26,-372.29 225.19,-377.25\"/>\n",
       "</g>\n",
       "<!-- repetitions -->\n",
       "<g id=\"node11\" class=\"node\">\n",
       "<title>repetitions</title>\n",
       "<polygon fill=\"#94ddf4\" stroke=\"black\" points=\"230,-407.5 230,-443.5 325,-443.5 325,-407.5 230,-407.5\"/>\n",
       "<text text-anchor=\"middle\" x=\"277.5\" y=\"-421.8\" font-family=\"Times,serif\" font-size=\"14.00\">repetitions</text>\n",
       "</g>\n",
       "<!-- repetitions&#45;&gt;create_structure -->\n",
       "<g id=\"edge17\" class=\"edge\">\n",
       "<title>repetitions&#45;&gt;create_structure</title>\n",
       "<path fill=\"none\" stroke=\"black\" d=\"M270.54,-407.34C266.91,-398.37 262.38,-387.2 258.3,-377.14\"/>\n",
       "<polygon fill=\"black\" stroke=\"black\" points=\"261.42,-375.52 254.42,-367.57 254.93,-378.15 261.42,-375.52\"/>\n",
       "</g>\n",
       "<!-- potential -->\n",
       "<g id=\"node12\" class=\"node\">\n",
       "<title>potential</title>\n",
       "<polygon fill=\"#94ddf4\" stroke=\"black\" points=\"343.5,-407.5 343.5,-443.5 423.5,-443.5 423.5,-407.5 343.5,-407.5\"/>\n",
       "<text text-anchor=\"middle\" x=\"383.5\" y=\"-421.8\" font-family=\"Times,serif\" font-size=\"14.00\">potential</text>\n",
       "</g>\n",
       "<!-- potential&#45;&gt;get_energy_volume -->\n",
       "<g id=\"edge19\" class=\"edge\">\n",
       "<title>potential&#45;&gt;get_energy_volume</title>\n",
       "<path fill=\"none\" stroke=\"black\" d=\"M374.2,-407.27C357.9,-374.47 329.02,-302.37 363.5,-258 378.92,-238.16 435.44,-224.45 485.96,-215.89\"/>\n",
       "<polygon fill=\"black\" stroke=\"black\" points=\"486.67,-219.32 495.97,-214.24 485.53,-212.41 486.67,-219.32\"/>\n",
       "</g>\n",
       "<!-- potential&#45;&gt;equilibriate_structure -->\n",
       "<g id=\"edge18\" class=\"edge\">\n",
       "<title>potential&#45;&gt;equilibriate_structure</title>\n",
       "<path fill=\"none\" stroke=\"black\" d=\"M392.25,-407.35C405.29,-381.79 429.92,-333.51 445.2,-303.57\"/>\n",
       "<polygon fill=\"black\" stroke=\"black\" points=\"448.38,-305.04 449.81,-294.54 442.14,-301.86 448.38,-305.04\"/>\n",
       "</g>\n",
       "<!-- pressure -->\n",
       "<g id=\"node13\" class=\"node\">\n",
       "<title>pressure</title>\n",
       "<polygon fill=\"#94ddf4\" stroke=\"black\" points=\"441.5,-407.5 441.5,-443.5 521.5,-443.5 521.5,-407.5 441.5,-407.5\"/>\n",
       "<text text-anchor=\"middle\" x=\"481.5\" y=\"-421.8\" font-family=\"Times,serif\" font-size=\"14.00\">pressure</text>\n",
       "</g>\n",
       "<!-- pressure&#45;&gt;get_energy_volume -->\n",
       "<g id=\"edge21\" class=\"edge\">\n",
       "<title>pressure&#45;&gt;get_energy_volume</title>\n",
       "<path fill=\"none\" stroke=\"black\" d=\"M493.47,-407.33C509.67,-383.29 538.4,-337.75 554.5,-295 562.26,-274.4 567.15,-249.91 570.03,-231.6\"/>\n",
       "<polygon fill=\"black\" stroke=\"black\" points=\"573.51,-232.02 571.5,-221.62 566.58,-231 573.51,-232.02\"/>\n",
       "</g>\n",
       "<!-- pressure&#45;&gt;equilibriate_structure -->\n",
       "<g id=\"edge20\" class=\"edge\">\n",
       "<title>pressure&#45;&gt;equilibriate_structure</title>\n",
       "<path fill=\"none\" stroke=\"black\" d=\"M478.82,-407.35C474.87,-382.12 467.46,-334.76 462.76,-304.74\"/>\n",
       "<polygon fill=\"black\" stroke=\"black\" points=\"466.17,-303.88 461.17,-294.54 459.25,-304.96 466.17,-303.88\"/>\n",
       "</g>\n",
       "</g>\n",
       "</svg>\n"
      ],
      "text/plain": [
       "<graphviz.sources.Source at 0x7ffe2e8fd630>"
      ]
     },
     "execution_count": 22,
     "metadata": {},
     "output_type": "execute_result"
    }
   ],
   "source": [
    "graphviz.Source.from_file('gp.gv')"
   ]
  },
  {
   "cell_type": "code",
   "execution_count": 26,
   "id": "282b142b-eb88-4906-afe8-b04047e63153",
   "metadata": {},
   "outputs": [],
   "source": [
    "a = np.array([1,2])"
   ]
  },
  {
   "cell_type": "code",
   "execution_count": 28,
   "id": "32803ad6-14e8-4bdb-95b7-a8121c8f3aaa",
   "metadata": {},
   "outputs": [
    {
     "data": {
      "text/plain": [
       "'ndarray'"
      ]
     },
     "execution_count": 28,
     "metadata": {},
     "output_type": "execute_result"
    }
   ],
   "source": [
    "type(a).__name__"
   ]
  },
  {
   "cell_type": "code",
   "execution_count": 31,
   "id": "0ce7527b-6e67-4877-8873-0df18e797022",
   "metadata": {},
   "outputs": [
    {
     "data": {
      "text/plain": [
       "'int64'"
      ]
     },
     "execution_count": 31,
     "metadata": {},
     "output_type": "execute_result"
    }
   ],
   "source": [
    "type(a[0]).__name__"
   ]
  },
  {
   "cell_type": "code",
   "execution_count": null,
   "id": "9ec02c1c-4279-422c-a586-a57540c46dea",
   "metadata": {},
   "outputs": [],
   "source": []
  }
 ],
 "metadata": {
  "kernelspec": {
   "display_name": "Python 3 (ipykernel)",
   "language": "python",
   "name": "python3"
  },
  "language_info": {
   "codemirror_mode": {
    "name": "ipython",
    "version": 3
   },
   "file_extension": ".py",
   "mimetype": "text/x-python",
   "name": "python",
   "nbconvert_exporter": "python",
   "pygments_lexer": "ipython3",
   "version": "3.10.5"
  }
 },
 "nbformat": 4,
 "nbformat_minor": 5
}
